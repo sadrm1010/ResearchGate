{
 "cells": [
  {
   "cell_type": "markdown",
   "id": "81e6bb91-f2a9-4cd9-bab2-c28039120ac1",
   "metadata": {},
   "source": [
    "## Welcome to jupyter documentation Tutorial"
   ]
  },
  {
   "cell_type": "markdown",
   "id": "2293256d-f94d-4e07-8d17-0f49290888c8",
   "metadata": {},
   "source": [
    "import this package"
   ]
  },
  {
   "cell_type": "code",
   "execution_count": 3,
   "id": "31b15c73-b4f3-4a33-b0e8-f12dad85ab24",
   "metadata": {},
   "outputs": [
    {
     "name": "stdout",
     "output_type": "stream",
     "text": [
      "python is cool 0\n",
      "python is cool 1\n",
      "python is cool 2\n",
      "python is cool 3\n",
      "python is cool 4\n",
      "python is cool 5\n",
      "python is cool 6\n",
      "python is cool 7\n",
      "python is cool 8\n",
      "python is cool 9\n"
     ]
    }
   ],
   "source": [
    "for i in range(10):\n",
    "    print(f\"python is cool {i}\")"
   ]
  },
  {
   "cell_type": "code",
   "execution_count": null,
   "id": "3ed3081d-4923-4f35-82f7-646c55de8612",
   "metadata": {},
   "outputs": [],
   "source": [
    "print(hi)"
   ]
  },
  {
   "cell_type": "code",
   "execution_count": null,
   "id": "394d9db9-506a-4bd9-8a72-434a684f78a5",
   "metadata": {},
   "outputs": [],
   "source": []
  },
  {
   "cell_type": "code",
   "execution_count": null,
   "id": "5bd68589-00a6-4048-a49e-d17d04324ed7",
   "metadata": {},
   "outputs": [],
   "source": []
  }
 ],
 "metadata": {
  "kernelspec": {
   "display_name": "Python 3 (ipykernel)",
   "language": "python",
   "name": "python3"
  },
  "language_info": {
   "codemirror_mode": {
    "name": "ipython",
    "version": 3
   },
   "file_extension": ".py",
   "mimetype": "text/x-python",
   "name": "python",
   "nbconvert_exporter": "python",
   "pygments_lexer": "ipython3",
   "version": "3.11.13"
  }
 },
 "nbformat": 4,
 "nbformat_minor": 5
}
